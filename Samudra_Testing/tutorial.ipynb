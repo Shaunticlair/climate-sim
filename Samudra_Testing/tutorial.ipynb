{
 "cells": [
  {
   "cell_type": "markdown",
   "id": "0de1ab79",
   "metadata": {},
   "source": [
    "This notebook will demonstrated how to use the "
   ]
  }
 ],
 "metadata": {
  "language_info": {
   "name": "python"
  }
 },
 "nbformat": 4,
 "nbformat_minor": 5
}
