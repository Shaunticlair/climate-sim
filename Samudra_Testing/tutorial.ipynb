{
 "cells": [
  {
   "cell_type": "markdown",
   "id": "a67ca7d2",
   "metadata": {},
   "source": [
    "# Samudra and SamudraAdjoint Demo\n",
    " \n",
    "This notebook demonstrates how to use the Samudra ocean emulator model and its adjoint version for sensitivity analysis.\n",
    "\n",
    "Samudra is the U-Net model designed by Dheeshjith et al. in \"Samudra: An AI Global Ocean Emulator for Climate\" (https://arxiv.org/abs/2412.03795). \n",
    "\n",
    "SamudraAdjoint is a subclass designed by Shaunticlair Ruiz (author of this document) to compute Adjoints from the Samudra model.\n"
   ]
  },
  {
   "cell_type": "markdown",
   "id": "01e6913d",
   "metadata": {},
   "source": [
    "## Setup\n",
    "First, let's import necessary libraries and set up the path to the Samudra directory. Note that this notebook requires you to already have the Samudra github installed elsewhere (an old version of the notebook! I should fix this in a future version).\n",
    "\n"
   ]
  },
  {
   "cell_type": "markdown",
   "id": "da303ef6",
   "metadata": {},
   "source": [
    "Imports:"
   ]
  },
  {
   "cell_type": "code",
   "execution_count": null,
   "id": "07a3e09b",
   "metadata": {},
   "outputs": [],
   "source": [
    "import sys\n",
    "import numpy as np\n",
    "import torch\n",
    "import xarray as xr\n",
    "import matplotlib.pyplot as plt\n",
    "from pathlib import Path\n",
    "\n",
    "# Import setup utilities and model adjoint module\n",
    "import setup\n",
    "import model_adjoint\n",
    "\n"
   ]
  },
  {
   "cell_type": "markdown",
   "id": "2d834f52",
   "metadata": {},
   "source": [
    "Getting our path and setting up our device for pytorch:"
   ]
  },
  {
   "cell_type": "code",
   "execution_count": null,
   "id": "a213607b",
   "metadata": {},
   "outputs": [],
   "source": [
    "# Add the Samudra package to the path\n",
    "# Replace this with your actual path to the Samudra directory\n",
    "samudra_path = Path(\"./\")  # Assuming the notebook is in the same directory as setup.py\n",
    "sys.path.append(str(samudra_path))\n",
    "\n",
    "# Configure the environment for CUDA or CPU and set random seeds for reproducibility\n",
    "device = setup.torch_config_cuda_cpu_seed()\n",
    "print(f\"Using device: {device}\")"
   ]
  },
  {
   "cell_type": "markdown",
   "id": "88039ef3",
   "metadata": {},
   "source": [
    "Finally, some settings that determine which kind of model we're using."
   ]
  },
  {
   "cell_type": "code",
   "execution_count": null,
   "id": "d1342f7b",
   "metadata": {},
   "outputs": [],
   "source": [
    "# Set model parameters\n",
    "hist = 1  # History length. DO NOT EDIT THIS VALUE.\n",
    "N_test = 40  # Number of timesteps to use for testing\n",
    "state_in_vars_config = \"3D_thermo_dynamic_all\"  # Options: \"3D_thermo_all\" or \"3D_thermo_dynamic_all\"\n",
    "boundary_vars_config = \"3D_all_hfds_anom\""
   ]
  },
  {
   "cell_type": "markdown",
   "id": "b37b98be",
   "metadata": {},
   "source": [
    "## Loading\n",
    "Now, we'll load up our dataset and model.\n",
    "\n"
   ]
  },
  {
   "cell_type": "markdown",
   "id": "6c387c01",
   "metadata": {},
   "source": [
    "There are two models: ```3D_thermo_all``` and ```3D_thermo_dynamic_all```. We need to select the appropriate state variables and boundary variables."
   ]
  },
  {
   "cell_type": "code",
   "execution_count": null,
   "id": "4ca5db8d",
   "metadata": {},
   "outputs": [],
   "source": [
    "# Get the variable lists and channel counts for our model configuration\n",
    "list_list_str, list_num_channels = setup.choose_model(\n",
    "    state_in_vars_config, \n",
    "    boundary_vars_config, \n",
    "    hist\n",
    ")\n",
    "\n",
    "# Unpack the data\n",
    "input_list_str, boundary_list_str, output_list_str, vars_list_str = list_list_str\n",
    "num_input_channels, num_output_channels = list_num_channels\n",
    "\n",
    "print(f\"Model will use {num_input_channels} input channels and {num_output_channels} output channels\")"
   ]
  },
  {
   "cell_type": "markdown",
   "id": "ba63d07a",
   "metadata": {},
   "source": [
    "Next: we load the dataset and select our desired subsequence."
   ]
  },
  {
   "cell_type": "code",
   "execution_count": null,
   "id": "7deadf57",
   "metadata": {},
   "outputs": [],
   "source": [
    "# Compute data indices\n",
    "s_train, e_train, s_test, e_test = setup.compute_indices(\n",
    "    hist=hist, \n",
    "    N_samples=2850,  # Used for training\n",
    "    N_val=50,        # Used for validation \n",
    "    N_test=N_test    # Used for testing\n",
    ")\n",
    "\n",
    "# Load the data into a Test object\n",
    "# The Test object handles normalization of the data using pre-computed means and standard deviations\n",
    "print(f\"Loading data from time indices {s_test} to {e_test}...\")\n",
    "test_data, wet, data_mean, data_std = setup.load_data(\n",
    "    s_test, e_test, N_test,\n",
    "    input_list_str, boundary_list_str, output_list_str,\n",
    "    hist=hist, device=device\n",
    ")\n",
    "print(\"Data loaded successfully!\")\n",
    "\n",
    "# The 'wet' mask indicates ocean vs. land areas (1 for ocean, 0 for land)\n",
    "print(f\"Wet mask shape: {wet.shape}\")\n",
    "\n"
   ]
  },
  {
   "cell_type": "markdown",
   "id": "3795c666",
   "metadata": {},
   "source": [
    "Finally, we load up our model of choice."
   ]
  },
  {
   "cell_type": "code",
   "execution_count": null,
   "id": "4265064f",
   "metadata": {},
   "outputs": [],
   "source": [
    "# Import Samudra model class\n",
    "from model import Samudra\n",
    "\n",
    "# Initialize the standard Samudra model\n",
    "samudra_model = Samudra(\n",
    "    n_out=num_output_channels, \n",
    "    ch_width=[num_input_channels]+[200,250,300,400], \n",
    "    wet=wet.to(device), \n",
    "    hist=hist\n",
    ")\n",
    "\n",
    "# Initialize the SamudraAdjoint model (extends Samudra with adjoint capabilities)\n",
    "samudra_adjoint = model_adjoint.SamudraAdjoint(\n",
    "    n_out=num_output_channels,\n",
    "    ch_width=[num_input_channels]+[200,250,300,400],\n",
    "    wet=wet.to(device),\n",
    "    hist=hist\n",
    ")\n",
    "\n",
    "# Load weights into both models\n",
    "print(\"Loading model weights...\")\n",
    "samudra_model = setup.load_weights(samudra_model, state_in_vars_config, device=device)\n",
    "samudra_adjoint = setup.load_weights(samudra_adjoint, state_in_vars_config, device=device)\n",
    "print(\"Model weights loaded successfully!\")\n",
    "\n",
    "# Brief summary of model functionalities\n",
    "print(\"\\nModel Summary:\")\n",
    "print(\"- Samudra: A deep learning ocean emulator that can simulate ocean dynamics\")\n",
    "print(\"  forward in time, predicting temperature, salinity, and sea surface height\")\n",
    "print(\"  (and optionally ocean velocities).\")\n",
    "print(\"- SamudraAdjoint: Extends Samudra with adjoint capabilities for sensitivity\")\n",
    "print(\"  analysis, allowing computation of how changes in initial conditions\")\n",
    "print(\"  propagate to affect future ocean states.\")"
   ]
  },
  {
   "cell_type": "markdown",
   "id": "4d5ab40a",
   "metadata": {},
   "source": [
    "## Running\n",
    "Now we'll use the Samudra model to simulate the ocean state forward by 10 timesteps,and visualize the initial and final states.\n"
   ]
  },
  {
   "cell_type": "markdown",
   "id": "d83d704c",
   "metadata": {},
   "source": [
    "Here, we run the model forward."
   ]
  },
  {
   "cell_type": "code",
   "execution_count": null,
   "id": "00bbc254",
   "metadata": {},
   "outputs": [],
   "source": [
    "\n",
    "# Import model function for generating rollouts\n",
    "from model import generate_model_rollout\n",
    "\n",
    "# Number of timesteps to run the model forward\n",
    "n_steps = 10\n",
    "\n",
    "# Run the model forward to generate a rollout\n",
    "print(f\"Generating a {n_steps}-step rollout...\")\n",
    "model_pred, model_outs = generate_model_rollout(\n",
    "    n_steps,\n",
    "    test_data,\n",
    "    samudra_model,\n",
    "    hist,\n",
    "    num_output_channels // (hist + 1),  # N_out\n",
    "    len(boundary_list_str),             # N_extra\n",
    "    initial_input=None,\n",
    "    device=device\n",
    ")\n",
    "print(\"Rollout completed successfully!\")"
   ]
  },
  {
   "cell_type": "markdown",
   "id": "95336e0a",
   "metadata": {},
   "source": [
    "Data processing:"
   ]
  },
  {
   "cell_type": "code",
   "execution_count": null,
   "id": "dec95a46",
   "metadata": {},
   "outputs": [],
   "source": [
    "# Convert model predictions to xarray Dataset for easier visualization\n",
    "from utils import post_processor, convert_train_data\n",
    "\n",
    "# Create DataArray from model predictions\n",
    "ds_prediction = xr.DataArray(\n",
    "    data=model_pred,\n",
    "    dims=[\"time\", \"x\", \"y\", \"var\"]\n",
    ")\n",
    "ds_prediction = ds_prediction.to_dataset(name=\"predictions\")\n",
    "\n",
    "# Get ground truth data\n",
    "ds_groundtruth = test_data.inputs.isel(time=slice(hist+1, hist+1+n_steps))\n",
    "ds_groundtruth = convert_train_data(ds_groundtruth)\n",
    "\n",
    "# Post-process predictions to match ground truth format\n",
    "ds_prediction = post_processor(ds_prediction, ds_groundtruth, vars_list_str)"
   ]
  },
  {
   "cell_type": "markdown",
   "id": "917e410d",
   "metadata": {},
   "source": [
    "And plotting the results."
   ]
  },
  {
   "cell_type": "code",
   "execution_count": null,
   "id": "af6de7b9",
   "metadata": {},
   "outputs": [],
   "source": [
    "# Now let's plot the initial and final states for the 2.5m depth potential temperature\n",
    "# First, let's define a helper function for plotting\n",
    "def plot_ocean_temperature(ax, data, title, cmap='viridis', vmin=None, vmax=None):\n",
    "    \"\"\"Helper function to plot ocean temperature with a nice layout.\"\"\"\n",
    "    # Create a mask for land areas (NaN values in the data)\n",
    "    mask = np.isnan(data)\n",
    "    \n",
    "    # Create a masked array\n",
    "    masked_data = np.ma.array(data, mask=mask)\n",
    "    \n",
    "    # Plot the data\n",
    "    im = ax.imshow(masked_data, origin='lower', cmap=cmap, vmin=vmin, vmax=vmax)\n",
    "    ax.set_title(title)\n",
    "    \n",
    "    # Return the image for colorbar\n",
    "    return im\n",
    "\n",
    "# Set up the figure for plotting\n",
    "plt.figure(figsize=(16, 10))\n",
    "\n",
    "# Determine min and max values for consistent colormap\n",
    "all_temps = []\n",
    "for t in [0, 1, 8, 9]:\n",
    "    if t < 2:  # Initial states\n",
    "        # At time 0 and 1, we use the input data\n",
    "        if t == 0:\n",
    "            # First time step is in first half of channels\n",
    "            temp = test_data[0][0][0, 0].cpu().numpy()  # Channel 0 for potential temperature at 2.5m depth\n",
    "        else:\n",
    "            # Second time step is in second half of channels\n",
    "            temp = test_data[0][0][0, 77].cpu().numpy()  # Channel 77 for potential temperature at 2.5m depth\n",
    "    else:  # Final states\n",
    "        # For later time steps, use the model output\n",
    "        temp = ds_prediction.thetao.isel(time=t-2, lev=0).values\n",
    "    \n",
    "    all_temps.append(temp[~np.isnan(temp)])  # Collect non-NaN values\n",
    "\n",
    "# Compute global min and max for colormap\n",
    "vmin = min([np.min(temp) for temp in all_temps])\n",
    "vmax = max([np.max(temp) for temp in all_temps])\n",
    "\n",
    "# Create subplots\n",
    "axes = []\n",
    "for i, t in enumerate([0, 1, 8, 9]):\n",
    "    ax = plt.subplot(2, 2, i+1)\n",
    "    axes.append(ax)\n",
    "    \n",
    "    if t < 2:  # Initial states\n",
    "        # At time 0 and 1, we use the input data\n",
    "        if t == 0:\n",
    "            # First time step is in first half of channels\n",
    "            temp = test_data[0][0][0, 0].cpu().numpy()  # Channel 0 for potential temperature at 2.5m depth\n",
    "            title = f\"Initial State (t=0)\"\n",
    "        else:\n",
    "            # Second time step is in second half of channels\n",
    "            temp = test_data[0][0][0, 77].cpu().numpy()  # Channel 77 for potential temperature at 2.5m depth\n",
    "            title = f\"Initial State (t=1)\"\n",
    "    else:  # Final states\n",
    "        # For later time steps, use the model output\n",
    "        temp = ds_prediction.thetao.isel(time=t-2, lev=0).values\n",
    "        title = f\"Final State (t={t})\"\n",
    "    \n",
    "    im = plot_ocean_temperature(ax, temp, title, cmap='viridis', vmin=vmin, vmax=vmax)\n",
    "\n",
    "# Add a colorbar\n",
    "cbar_ax = plt.figure().add_axes([0.15, 0.05, 0.7, 0.02])\n",
    "plt.colorbar(im, cax=cbar_ax, orientation='horizontal', label='Potential Temperature at 2.5m depth (°C)')\n",
    "\n",
    "plt.tight_layout()\n",
    "plt.show()\n",
    "\n",
    "# Save the timestep=9 output for comparison with adjoint results\n",
    "final_state_t9 = ds_prediction.thetao.isel(time=7, lev=0).values\n",
    "np.save('final_state_t9.npy', final_state_t9)\n",
    "\n",
    "print(\"Plotting complete! We can see how the model simulates ocean temperature evolution.\")"
   ]
  }
 ],
 "metadata": {
  "language_info": {
   "name": "python"
  }
 },
 "nbformat": 4,
 "nbformat_minor": 5
}
