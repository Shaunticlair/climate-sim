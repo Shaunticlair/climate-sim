{
 "cells": [
  {
   "cell_type": "markdown",
   "id": "a67ca7d2",
   "metadata": {},
   "source": [
    "# Samudra and SamudraAdjoint Demo\n",
    " \n",
    "This notebook demonstrates how to use the Samudra ocean emulator model and its adjoint version for sensitivity analysis.\n",
    "\n",
    "Samudra is the U-Net model designed by Dheeshjith et al. in \"Samudra: An AI Global Ocean Emulator for Climate\" (https://arxiv.org/abs/2412.03795). \n",
    "\n",
    "SamudraAdjoint is a subclass designed by Shaunticlair Ruiz (author of this document) to compute Adjoints from the Samudra model.\n"
   ]
  },
  {
   "cell_type": "code",
   "execution_count": null,
   "id": "07a3e09b",
   "metadata": {},
   "outputs": [],
   "source": []
  }
 ],
 "metadata": {
  "language_info": {
   "name": "python"
  }
 },
 "nbformat": 4,
 "nbformat_minor": 5
}
