{
 "cells": [
  {
   "cell_type": "code",
   "execution_count": null,
   "id": "7dccc05f-4442-46d1-96fc-39e5849bc371",
   "metadata": {},
   "outputs": [],
   "source": [
    "#!/usr/bin/env python3\n",
    "# -*- coding: utf-8 -*-\n",
    "\"\"\"\n",
    "Created on 5/4/2025\n",
    "\n",
    "@author: ifenty\n",
    "\"\"\"\n",
    "\n",
    "import numpy as np\n",
    "from pathlib import Path\n",
    "import xarray as xr\n",
    "import matplotlib.pyplot as plt;"
   ]
  },
  {
   "cell_type": "code",
   "execution_count": null,
   "id": "93f4857a-81a9-4a72-8e53-90239e351025",
   "metadata": {},
   "outputs": [],
   "source": [
    "import numpy as np\n",
    "import cartopy.crs as ccrs\n",
    "import cartopy.feature as cfeature"
   ]
  },
  {
   "cell_type": "code",
   "execution_count": null,
   "id": "a1d53246-1f7f-4d3c-bb10-ccefcc64f4d3",
   "metadata": {},
   "outputs": [],
   "source": [
    "def calc_adxx_length(adxx):\n",
    "    tmp = []\n",
    "    # number of time levels\n",
    "    for i in range(adxx.shape[0]):\n",
    "        tmpv = np.inner(np.ravel(adxx[i]), np.ravel(adxx[i]))\n",
    "        tmp.append(tmpv)\n",
    "\n",
    "    return np.array(tmp)"
   ]
  },
  {
   "cell_type": "code",
   "execution_count": null,
   "id": "761eef96-9d84-43d9-9a47-a5f35427a7ba",
   "metadata": {},
   "outputs": [],
   "source": [
    "def plot_adxx_length(adxx, lags, t=''):\n",
    "    plt.figure()\n",
    "    adxx_len = calc_adxx_length(adxx)\n",
    "    plt.plot(lags,adxx_len,'k.-')\n",
    "    plt.title('|adxx ' + t + '| vs. lag')"
   ]
  },
  {
   "cell_type": "code",
   "execution_count": null,
   "id": "5e0fec0c-0200-4961-b1c7-b29f6fbae5ec",
   "metadata": {},
   "outputs": [],
   "source": [
    "def plot_gradient_field(adxx_DA, central_longitude=-180):\n",
    "    \n",
    "    field_to_plot_max = np.nanmax(np.abs(np.ravel(adxx_DA)))*0.6\n",
    "    \n",
    "    # Plot\n",
    "    fig = plt.figure(figsize=(15, 5))\n",
    "    ax = plt.axes(projection=ccrs.PlateCarree(central_longitude=central_longitude))\n",
    "    \n",
    "    pcm = ax.pcolormesh(adxx_DA.lon, adxx_DA.lat, adxx_DA, \n",
    "                        vmin = -field_to_plot_max, \n",
    "                        vmax = field_to_plot_max, \n",
    "                        transform=ccrs.PlateCarree(), cmap=\"RdBu_r\")\n",
    "    \n",
    "    ax.coastlines()\n",
    "    ax.gridlines(draw_labels=True)\n",
    "    plt.colorbar(pcm, orientation='vertical')\n",
    "    plt.title(adxx_DA.name + ' at lag ' + str(adxx_DA.lag.values))\n",
    "    plt.show()\n"
   ]
  },
  {
   "cell_type": "markdown",
   "id": "237b78d3-5f05-4ef6-9232-440f21fb4f84",
   "metadata": {},
   "source": [
    "# Define Paths\n",
    "\n",
    "Paths of EMU gradient experiments"
   ]
  },
  {
   "cell_type": "code",
   "execution_count": null,
   "id": "b6976c7d-6b3c-4860-b1f0-eee0b4337cfb",
   "metadata": {},
   "outputs": [],
   "source": [
    "emu_output_basedir= Path('/home/ifenty/incoming/gradients')\n",
    "gradient_dirs = ['emu_adj_48_48_1_15_743_1','emu_adj_48_48_1_2_209_1','emu_adj_48_48_1_56_1069_1','emu_adj_48_48_1_56_1072_1']"
   ]
  },
  {
   "cell_type": "markdown",
   "id": "ed143a79-76e8-4701-915c-d3d5d9c71a4f",
   "metadata": {},
   "source": [
    "# Find all EMU adjoint experiment directories"
   ]
  },
  {
   "cell_type": "code",
   "execution_count": null,
   "id": "8a09ff3c-f5c0-429d-b057-41585ce2e552",
   "metadata": {
    "scrolled": true
   },
   "outputs": [],
   "source": [
    "gd_output_dirs = []\n",
    "gd_files = dict()\n",
    "for gd in gradient_dirs:\n",
    "    tmp = emu_output_basedir / gd / 'output'\n",
    "    print(tmp)\n",
    "    gd_output_dirs.append(tmp)\n",
    "    gd_files[gd] = np.sort(list(Path(tmp).glob('*nc')))\n",
    "    print(gd_files[gd])\n",
    "\n",
    "adxx_files = ['adxx_qnet','adxx_tauu','adxx_tauv']"
   ]
  },
  {
   "cell_type": "code",
   "execution_count": null,
   "id": "88e04dcf-3535-400e-9cbd-678af4cd9e7c",
   "metadata": {},
   "outputs": [],
   "source": [
    "# loop through each EMU adjoint gradient experiment directory\n",
    "# directory 3 and 4 are almost identical, so skip 4\n",
    "\n",
    "# choose an EMU experiment to process\n",
    "for dd in range(3):\n",
    "\n",
    "    # for plotting, select the central longitude\n",
    "    if dd == 0: # tropical pacific experiment\n",
    "        central_longitude = -180 # degrees east\n",
    "    else: # Nantucket and N. Atlantic experiments\n",
    "        central_longitude = -45 # degrees east\n",
    "\n",
    "    # make maps of the gradients for several lag\n",
    "    lags_to_show = [-1, -6, -36, -72]\n",
    "\n",
    "    adxx_qnet_DA = xr.open_dataset(gd_output_dirs[dd] / 'adxx_qnet.nc')['adxx_qnet']\n",
    "    adxx_tauu_DA = xr.open_dataset(gd_output_dirs[dd] / 'adxx_tauu.nc')['adxx_tauu']\n",
    "    adxx_tauv_DA = xr.open_dataset(gd_output_dirs[dd] / 'adxx_tauv.nc')['adxx_tauv']    \n",
    "\n",
    "    # plot gradients for qnet, tauu, tauv\n",
    "    for adxx_DA in [adxx_tauu_DA, adxx_tauv_DA, adxx_qnet_DA]:\n",
    "        \n",
    "        # plot different lags\n",
    "        for ll in lags_to_show:\n",
    "            plot_gradient_field(adxx_DA[ll], central_longitude=central_longitude)\n",
    "\n",
    "        # plot the length of the gradient vector (crudely calculated)\n",
    "        tmp = calc_adxx_length(np.where(np.isnan(adxx_DA.values),0, adxx_DA.values))\n",
    "        plot_adxx_length(tmp[-72:], adxx_DA.lag[-72:], adxx_DA.name);plt.grid()\n",
    "        plt.xlabel('days')\n",
    "        plt.ylabel('gradient length')\n",
    "\n",
    "    # close the DataArray file\n",
    "    adxx_qnet_DA.close()\n",
    "    adxx_tauu_DA.close()\n",
    "    adxx_tauv_DA.close()"
   ]
  },
  {
   "cell_type": "code",
   "execution_count": null,
   "id": "e02293ef-4e09-46c4-9c46-55f96d615ed1",
   "metadata": {},
   "outputs": [],
   "source": []
  }
 ],
 "metadata": {
  "kernelspec": {
   "display_name": "Python 3 (ipykernel)",
   "language": "python",
   "name": "python3"
  },
  "language_info": {
   "codemirror_mode": {
    "name": "ipython",
    "version": 3
   },
   "file_extension": ".py",
   "mimetype": "text/x-python",
   "name": "python",
   "nbconvert_exporter": "python",
   "pygments_lexer": "ipython3",
   "version": "3.12.0"
  }
 },
 "nbformat": 4,
 "nbformat_minor": 5
}
