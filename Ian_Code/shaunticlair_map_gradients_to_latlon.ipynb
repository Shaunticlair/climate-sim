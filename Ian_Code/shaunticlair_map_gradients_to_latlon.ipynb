{
 "cells": [
  {
   "cell_type": "code",
   "execution_count": null,
   "id": "7dccc05f-4442-46d1-96fc-39e5849bc371",
   "metadata": {},
   "outputs": [],
   "source": [
    "#!/usr/bin/env python3\n",
    "# -*- coding: utf-8 -*-\n",
    "\"\"\"\n",
    "Created on Wed Mar  3 06:13:47 2021\n",
    "\n",
    "@author: ifenty\n",
    "\"\"\"\n",
    "\n",
    "import sys\n",
    "sys.path.append('/home/ifenty/git_repos_others/ECCO-GROUP/ECCO-ACCESS/ecco-cloud-utils')\n",
    "sys.path.append('/home/ifenty/git_repos_others/ECCO-GROUP/ECCOv4-py')\n",
    "\n",
    "from importlib import reload\n",
    "import ecco_v4_py as ecco\n",
    "import ecco_cloud_utils as ea\n",
    "\n",
    "import argparse\n",
    "import json\n",
    "import numpy as np\n",
    "from pathlib import Path\n",
    "import pandas as pd\n",
    "import netCDF4 as nc4\n",
    "import xarray as xr\n",
    "import datetime\n",
    "from pprint import pprint\n",
    "import pyresample as pr\n",
    "import uuid\n",
    "import pickle\n",
    "from collections import OrderedDict\n",
    "from pandas import read_csv\n",
    "import matplotlib.pyplot as plt;\n",
    "import shutil"
   ]
  },
  {
   "cell_type": "code",
   "execution_count": null,
   "id": "93f4857a-81a9-4a72-8e53-90239e351025",
   "metadata": {},
   "outputs": [],
   "source": [
    "import numpy as np\n",
    "import matplotlib.pyplot as plt\n",
    "import cartopy.crs as ccrs\n",
    "import cartopy.feature as cfeature\n"
   ]
  },
  {
   "cell_type": "code",
   "execution_count": null,
   "id": "2fe672c8-8753-43eb-a708-d3fa03b56d85",
   "metadata": {},
   "outputs": [],
   "source": [
    "dask_worker_dir = Path('/mnt/intraid/ian1/ifenty/dask_tmp')\n",
    "#dask_worker_dir = Path('/Users/ifenty/tmp/dask_tmp')\n",
    "dask_worker_dir.mkdir(exist_ok=True)\n",
    "shutil.rmtree(dask_worker_dir)\n",
    "dask_worker_dir.mkdir()"
   ]
  },
  {
   "cell_type": "code",
   "execution_count": null,
   "id": "11a868f9-92d1-4ecb-8774-27834230be9a",
   "metadata": {},
   "outputs": [],
   "source": [
    "import dask\n",
    "try:\n",
    "    client.close()\n",
    "    client = None\n",
    "except:\n",
    "    print('no client')\n",
    "    \n",
    "dask.config.set({'temporary_directory': '/mnt/intraid/ian1/ifenty/dask_tmp'})\n",
    "\n",
    "# Works on Ian's Machine, but not necessary\n",
    "from dask.distributed import Client, progress\n",
    "#client = Client(processes=False, threads_per_worker=48)\n",
    "client = Client(processes=False, n_workers=6, threads_per_worker=1,memory_limit='32GB')\n",
    "client"
   ]
  },
  {
   "cell_type": "code",
   "execution_count": null,
   "id": "cbe3eb58-95c3-4e9e-bb35-1fa4e9de0d8a",
   "metadata": {},
   "outputs": [],
   "source": [
    "def map_adxx_to_latlon(adxx, var_name,neighbors=8):\n",
    "    \n",
    "    # assumes array has dimensions [lag, tile, j, i]\n",
    "    \n",
    "    adxx_latlon = []\n",
    "    \n",
    "    nt = adxx_qnet.shape[0]\n",
    "    for k in range(nt):\n",
    "        ll_lonc, ll_latc, ll_long, ll_latg, f = \\\n",
    "                ecco.resample_to_latlon(XC_wet_r, YC_wet_r, np.ravel(adxx[k])[wet_ins], \n",
    "                                new_grid_min_lat = -90, new_grid_max_lat = 90, new_grid_delta_lat = 1., \n",
    "                                new_grid_min_lon = -179.5, new_grid_max_lon = 179.5, new_grid_delta_lon = 1., \n",
    "                                fill_value=-1, neighbors=neighbors)\n",
    "        f = np.where(f_mask == 1, f, np.nan)\n",
    "        adxx_latlon.append(f)\n",
    "    \n",
    "        if k % 50 == 0:\n",
    "            print(k)\n",
    "    \n",
    "    # convert to array\n",
    "    adxx_latlon = np.array(adxx_latlon)\n",
    "    \n",
    "    # convert to DataArray\n",
    "    adxx_latlon_DA = xr.DataArray(adxx_latlon, dims=('lag','lat','lon'),\n",
    "                                  coords={'lag':lags, 'lat':ll_latc[:,0],'lon':ll_lonc[0,:]})\n",
    "    \n",
    "    adxx_latlon_DA.name =var_name\n",
    "    \n",
    "    return adxx_latlon_DA"
   ]
  },
  {
   "cell_type": "code",
   "execution_count": null,
   "id": "a1d53246-1f7f-4d3c-bb10-ccefcc64f4d3",
   "metadata": {},
   "outputs": [],
   "source": [
    "def calc_adxx_length(adxx):\n",
    "    tmp = []\n",
    "    # number of time levels\n",
    "    for i in range(adxx.shape[0]):\n",
    "        tmpv = np.inner(np.ravel(adxx[i]), np.ravel(adxx[i]))\n",
    "        tmp.append(tmpv)\n",
    "\n",
    "    return np.array(tmp)"
   ]
  },
  {
   "cell_type": "code",
   "execution_count": null,
   "id": "761eef96-9d84-43d9-9a47-a5f35427a7ba",
   "metadata": {},
   "outputs": [],
   "source": [
    "def plot_adxx_length(adxx, lags, t=''):\n",
    "    plt.figure()\n",
    "    adxx_len = calc_adxx_length(adxx)\n",
    "    plt.plot(lags,adxx_len,'k.-')\n",
    "    plt.title('|adxx ' + t + '| vs. lag')"
   ]
  },
  {
   "cell_type": "code",
   "execution_count": null,
   "id": "5e0fec0c-0200-4961-b1c7-b29f6fbae5ec",
   "metadata": {},
   "outputs": [],
   "source": [
    "\n",
    "def plot_gradient_field(adxx_DA, central_longitude=-180):\n",
    "    \n",
    "    field_to_plot_max = np.nanmax(np.abs(np.ravel(adxx_DA)))*0.6\n",
    "    \n",
    "    # Plot\n",
    "    fig = plt.figure(figsize=(15, 5))\n",
    "    ax = plt.axes(projection=ccrs.PlateCarree(central_longitude=central_longitude))\n",
    "    \n",
    "    pcm = ax.pcolormesh(adxx_DA.lon, adxx_DA.lat, adxx_DA, \n",
    "                        vmin = -field_to_plot_max, \n",
    "                        vmax = field_to_plot_max, \n",
    "                        transform=ccrs.PlateCarree(), cmap=\"RdBu_r\")\n",
    "    \n",
    "    ax.coastlines()\n",
    "    ax.gridlines(draw_labels=True)\n",
    "    plt.colorbar(pcm, orientation='vertical')\n",
    "    plt.title(adxx_DA.name + ' at lag ' + str(adxx_DA.lag.values))\n",
    "    plt.show()\n"
   ]
  },
  {
   "cell_type": "markdown",
   "id": "237b78d3-5f05-4ef6-9232-440f21fb4f84",
   "metadata": {},
   "source": [
    "# Define Paths\n",
    "\n",
    "Paths of EMU gradient experiments"
   ]
  },
  {
   "cell_type": "code",
   "execution_count": null,
   "id": "b6976c7d-6b3c-4860-b1f0-eee0b4337cfb",
   "metadata": {},
   "outputs": [],
   "source": [
    "emu_output_basedir= Path('/home/ifenty/incoming/gradients')\n",
    "gradient_dirs = ['emu_adj_48_48_1_15_743_1','emu_adj_48_48_1_2_209_1','emu_adj_48_48_1_56_1069_1','emu_adj_48_48_1_56_1072_1']"
   ]
  },
  {
   "cell_type": "markdown",
   "id": "96d5488b-60f7-4fca-88a6-84652b5d83e9",
   "metadata": {},
   "source": [
    "ecco grid path"
   ]
  },
  {
   "cell_type": "code",
   "execution_count": null,
   "id": "123f34a0-efe8-4015-8ce4-a711576eddc4",
   "metadata": {
    "scrolled": true
   },
   "outputs": [],
   "source": [
    "grid_dir = Path('/home/ifenty/data/grids/grid_ECCOV4r4')\n",
    "ecco_grid = xr.open_dataset(grid_dir / 'GRID_GEOMETRY_ECCO_V4r4_native_llc0090.nc')"
   ]
  },
  {
   "cell_type": "code",
   "execution_count": null,
   "id": "4e97aae0-d04f-419b-aedf-9ad194b6a770",
   "metadata": {},
   "outputs": [],
   "source": [
    "ecco_grid"
   ]
  },
  {
   "cell_type": "markdown",
   "id": "5436b73d-4820-4276-853d-d367bb786407",
   "metadata": {},
   "source": [
    "# Find wetpoints of ecco grid surface level"
   ]
  },
  {
   "cell_type": "code",
   "execution_count": null,
   "id": "55ce0004-24a1-4c90-ab7f-bd11bf349e2f",
   "metadata": {},
   "outputs": [],
   "source": [
    "XC_wet_r = ecco_grid.XC.values.ravel()[wet_ins]\n",
    "YC_wet_r = ecco_grid.YC.values.ravel()[wet_ins]"
   ]
  },
  {
   "cell_type": "code",
   "execution_count": null,
   "id": "e39080c4-551b-43f9-a3fe-aedb86311d9a",
   "metadata": {},
   "outputs": [],
   "source": [
    "ecco.resample_to_latlon"
   ]
  },
  {
   "cell_type": "markdown",
   "id": "43d0dfe9-4741-47da-aefd-2a38d347cd62",
   "metadata": {},
   "source": [
    "# Make a Lat-Lon Landmask"
   ]
  },
  {
   "cell_type": "code",
   "execution_count": null,
   "id": "21deec93-de61-48cb-b6de-9f6bc2666dc4",
   "metadata": {
    "scrolled": true
   },
   "outputs": [],
   "source": [
    "surf_mask = np.where(ecco_grid.maskC[0] == True, 1.0, 0.0)\n",
    "surf_mask.shape\n",
    "wet_ins = np.where(np.ravel(surf_mask) > 0)"
   ]
  },
  {
   "cell_type": "code",
   "execution_count": null,
   "id": "c614a737-18cb-4023-94ad-78193fb66528",
   "metadata": {},
   "outputs": [],
   "source": [
    "# map the ecco grid surface land/wet mask to a 1 degree grid\n",
    "\n",
    "ll_lonc, ll_latc, ll_long, ll_latg, f_mask = ecco.resample_to_latlon(ecco_grid.XC, ecco_grid.YC, surf_mask, \n",
    "                        new_grid_min_lat = -90, new_grid_max_lat = 90, new_grid_delta_lat = 1., \n",
    "                        new_grid_min_lon = -179.5, new_grid_max_lon = 179.5, new_grid_delta_lon = 1., \n",
    "                        fill_value=-1, neighbors=100)"
   ]
  },
  {
   "cell_type": "code",
   "execution_count": null,
   "id": "dbdc32be-dd71-4603-ba71-993afb50c182",
   "metadata": {},
   "outputs": [],
   "source": [
    "# after bin averaging, a lot of points near the coast have values somewhere between 0..1\n",
    "plt.pcolor(ll_lonc, ll_latc, f_mask, vmin=0, vmax=1, cmap='grey')\n",
    "\n",
    "# anything with less than 0.5, set to land (0)\n",
    "f_mask = np.where(f_mask < .5, 0, 1)\n",
    "\n",
    "plt.figure()\n",
    "plt.pcolor(ll_lonc, ll_latc, f_mask, vmin=0, vmax=1, cmap='grey')\n",
    "plt.title('new lat-lon grid wet/dry mask')"
   ]
  },
  {
   "cell_type": "code",
   "execution_count": null,
   "id": "b3d93dc3-de8d-4dad-93d5-97c8b44db1da",
   "metadata": {},
   "outputs": [],
   "source": [
    "ll_landmask = xr.DataArray(f_mask, dims=('lat','lon'),coords={'lat':ll_latc[:,0],'lon':ll_lonc[0,:]})\n",
    "ll_landmask.plot()\n",
    "ll_landmask.to_netcdf('/home/ifenty/incoming/gradients/lat-lon-landmask.nc')\n",
    "ll_landmask.close()"
   ]
  },
  {
   "cell_type": "markdown",
   "id": "ed143a79-76e8-4701-915c-d3d5d9c71a4f",
   "metadata": {},
   "source": [
    "# Find all EMU adjoint experiment directories"
   ]
  },
  {
   "cell_type": "code",
   "execution_count": null,
   "id": "8a09ff3c-f5c0-429d-b057-41585ce2e552",
   "metadata": {},
   "outputs": [],
   "source": [
    "gd_output_dirs = []\n",
    "gd_files = dict()\n",
    "for gd in gradient_dirs:\n",
    "    tmp = emu_output_basedir / gd / 'output'\n",
    "    gd_output_dirs.append(tmp)\n",
    "    print(gd)\n",
    "    gd_files[gd] = np.sort(list(Path(tmp).glob('*data')))\n",
    "    print(gd_files[gd])\n",
    "\n",
    "adxx_files = ['adxx_qnet','adxx_tauu','adxx_tauv']"
   ]
  },
  {
   "cell_type": "code",
   "execution_count": null,
   "id": "88e04dcf-3535-400e-9cbd-678af4cd9e7c",
   "metadata": {},
   "outputs": [],
   "source": [
    "\n",
    "# loop through each EMU adjoint gradient experiment directory\n",
    "# directory 3 and 4 are almost identical, so skip 4\n",
    "\n",
    "# skip empmr for now\n",
    "\n",
    "\n",
    "# choose an EMU experiment to process\n",
    "for dd in range(3):\n",
    "\n",
    "    # find the gradients with respect to qnet, tauu, tauv, and mass flux (evaportaion minus precipitation minus runoff)\n",
    "    adxx_qnet_files = list(gd_output_dirs[dd].glob('adxx_qnet*data'))[0]\n",
    "    adxx_tauu_files = list(gd_output_dirs[dd].glob('adxx_tauu*data'))[0]\n",
    "    adxx_tauv_files = list(gd_output_dirs[dd].glob('adxx_tauv*data'))[0]\n",
    "    #adxx_empmr_files = list(gd_output_dirs[dd].glob('adxx_empmr*data'))[0]\n",
    "\n",
    "    # load the gradients to the model's 13 tile format\n",
    "    adxx_qnet = ecco.read_llc_to_tiles(gd_output_dirs[0], adxx_qnet_files, nk=-1)\n",
    "    adxx_tauu = ecco.read_llc_to_tiles(gd_output_dirs[0], adxx_tauu_files, nk=-1)\n",
    "    adxx_tauv = ecco.read_llc_to_tiles(gd_output_dirs[0], adxx_tauv_files, nk=-1)\n",
    "    #adxx_empmr = ecco.read_llc_to_tiles(gd_output_dirs[0], adxx_empmr_files, nk=-1)\n",
    "\n",
    "    # make a lag array, starting from 0 and going to 10x number of time levels\n",
    "    nt = adxx_qnet.shape[0]\n",
    "    lags = (np.array(range(nt))*10)[::-1]\n",
    "    lags\n",
    "\n",
    "    # map the gradients from the model grid to a 1-degree lat-lon grid\n",
    "    # note, the fields are in reverse lag order.\n",
    "    # the first entry is the longest lag\n",
    "    # the last entry is the shortest lag\n",
    "    \n",
    "    adxx_qnet_DA  = map_adxx_to_latlon(adxx_qnet,  'adxx_qnet')\n",
    "    adxx_tauu_DA  = map_adxx_to_latlon(adxx_tauu,  'adxx_tauu')\n",
    "    adxx_tauv_DA  = map_adxx_to_latlon(adxx_tauv,  'adxx_tauv')\n",
    "    #adxx_empmr_DA = map_adxx_to_latlon(adxx_empmr, 'adxx_empmr')\n",
    "\n",
    "    # drop the 0 lag entry because it is empty\n",
    "    # the first dimension of the X_DA is lag \n",
    "    adxx_tauu_DA = adxx_tauu_DA[0:-1]\n",
    "    adxx_tauv_DA = adxx_tauv_DA[0:-1]\n",
    "    adxx_qnet_DA = adxx_qnet_DA[0:-1]\n",
    "    #adxx_empmr_DA = adxx_empmr_DA[0:-1]\n",
    "    print(adxx_tauv_DA.lag)\n",
    "\n",
    "\n",
    "    # for plotting, select the central longitude\n",
    "    if dd == 0: # tropical pacific experiment\n",
    "        central_longitude = -180 # degrees east\n",
    "    else: # Nantucket and N. Atlantic experiments\n",
    "        central_longitude = -45 # degrees east\n",
    "\n",
    "    # make maps of the gradients for several lag\n",
    "    lags_to_show = [-1, -6, -36, -72]\n",
    "        \n",
    "    for adxx_DA in [adxx_tauu_DA, adxx_tauv_DA, adxx_qnet_DA]:\n",
    "        for ll in lags_to_show:\n",
    "            plot_gradient_field(adxx_DA[ll], central_longitude=central_longitude)\n",
    "\n",
    "        # plot length of gradient vector\n",
    "        tmp = calc_adxx_length(np.where(np.isnan(adxx_DA.values),0, adxx_DA.values))\n",
    "        plot_adxx_length(tmp[-72:], adxx_DA.lag[-72:], adxx_DA.name);plt.grid()\n",
    "        plt.xlabel('days')\n",
    "        plt.ylabel('gradient length')\n",
    "\n",
    "    # save DA to disk\n",
    "    adxx_qnet_DA.to_netcdf(gd_output_dirs[dd] / 'adxx_qnet.nc')\n",
    "    adxx_qnet_DA.close()\n",
    "    adxx_tauu_DA.to_netcdf(gd_output_dirs[dd] / 'adxx_tauu.nc')\n",
    "    adxx_tauu_DA.close()\n",
    "    adxx_tauv_DA.to_netcdf(gd_output_dirs[dd] / 'adxx_tauv.nc')\n",
    "    adxx_tauv_DA.close()"
   ]
  },
  {
   "cell_type": "code",
   "execution_count": null,
   "id": "ffce66ef-f037-410e-b428-4f7f5abc8469",
   "metadata": {},
   "outputs": [],
   "source": []
  },
  {
   "cell_type": "code",
   "execution_count": null,
   "id": "e02293ef-4e09-46c4-9c46-55f96d615ed1",
   "metadata": {},
   "outputs": [],
   "source": []
  },
  {
   "cell_type": "code",
   "execution_count": null,
   "id": "75bf1a0f-6949-4769-a373-7e510a2189f2",
   "metadata": {},
   "outputs": [],
   "source": []
  },
  {
   "cell_type": "code",
   "execution_count": null,
   "id": "98edfc54-4f14-4663-a946-6839e5b2ed8e",
   "metadata": {},
   "outputs": [],
   "source": [
    "gd_output_dirs[dd]"
   ]
  },
  {
   "cell_type": "code",
   "execution_count": null,
   "id": "96bec55e-5aa1-4a33-8aee-06ae42281762",
   "metadata": {},
   "outputs": [],
   "source": []
  },
  {
   "cell_type": "code",
   "execution_count": null,
   "id": "41f6bcf3-afef-44af-893d-9ec45bef1c37",
   "metadata": {},
   "outputs": [],
   "source": []
  }
 ],
 "metadata": {
  "kernelspec": {
   "display_name": "Python 3 (ipykernel)",
   "language": "python",
   "name": "python3"
  },
  "language_info": {
   "codemirror_mode": {
    "name": "ipython",
    "version": 3
   },
   "file_extension": ".py",
   "mimetype": "text/x-python",
   "name": "python",
   "nbconvert_exporter": "python",
   "pygments_lexer": "ipython3",
   "version": "3.12.0"
  }
 },
 "nbformat": 4,
 "nbformat_minor": 5
}
